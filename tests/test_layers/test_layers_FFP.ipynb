{
 "cells": [
  {
   "cell_type": "code",
   "execution_count": 2,
   "id": "4d47fd9a",
   "metadata": {},
   "outputs": [],
   "source": [
    "import numpy as np"
   ]
  },
  {
   "cell_type": "markdown",
   "id": "4a886c15",
   "metadata": {},
   "source": [
    "# Test Feed Forward Pass For Each Layer"
   ]
  },
  {
   "cell_type": "markdown",
   "id": "0daadbca",
   "metadata": {},
   "source": [
    "### Test Dense Layer"
   ]
  },
  {
   "cell_type": "code",
   "execution_count": 3,
   "id": "c08bb75d",
   "metadata": {},
   "outputs": [],
   "source": [
    "from natorch.nn.modules.dense import Dense\n",
    "from natorch.nn.modules.activation import ReLU, Sigmoid"
   ]
  },
  {
   "cell_type": "code",
   "execution_count": 4,
   "id": "96aabaf8",
   "metadata": {},
   "outputs": [],
   "source": [
    "layers = [Dense(256, 128), \n",
    "          ReLU(), \n",
    "          Dense(128, 64), \n",
    "          ReLU(), \n",
    "          Dense(64, 32), \n",
    "          ReLU(), \n",
    "          Dense(32, 10), \n",
    "          Sigmoid()\n",
    "          ]"
   ]
  },
  {
   "cell_type": "code",
   "execution_count": 5,
   "id": "93e13041",
   "metadata": {},
   "outputs": [],
   "source": [
    "sample = np.random.rand(256, )"
   ]
  },
  {
   "cell_type": "code",
   "execution_count": 6,
   "id": "70833c21",
   "metadata": {},
   "outputs": [
    {
     "data": {
      "text/plain": [
       "(10,)"
      ]
     },
     "execution_count": 6,
     "metadata": {},
     "output_type": "execute_result"
    }
   ],
   "source": [
    "output = sample \n",
    "for i in layers:\n",
    "    output = i.forward(output)\n",
    "output.shape"
   ]
  },
  {
   "cell_type": "markdown",
   "id": "b9ae0bc5",
   "metadata": {},
   "source": [
    "### Test Conv2d Layer - Forward"
   ]
  },
  {
   "cell_type": "code",
   "execution_count": 7,
   "id": "0e3a9175",
   "metadata": {},
   "outputs": [],
   "source": [
    "from natorch.nn.modules.conv import Conv2d"
   ]
  },
  {
   "cell_type": "code",
   "execution_count": 8,
   "id": "c8696167",
   "metadata": {},
   "outputs": [],
   "source": [
    "layers = [Conv2d(1, 16, kernel_size = 3, stride = 1, padding = 1),\n",
    "          ReLU(), \n",
    "          Conv2d(16, 32, kernel_size = 3, stride = 1, padding = 1),\n",
    "          ReLU(), \n",
    "          Conv2d(32, 64, kernel_size = 3, stride = 1, padding = 1),\n",
    "          ReLU(), \n",
    "          Conv2d(64, 128, kernel_size = 3, stride = 1, padding = 1),\n",
    "          Sigmoid()\n",
    "          ]"
   ]
  },
  {
   "cell_type": "code",
   "execution_count": 9,
   "id": "60e3b074",
   "metadata": {},
   "outputs": [],
   "source": [
    "sample = np.random.rand(1, 1, 28, 28)"
   ]
  },
  {
   "cell_type": "code",
   "execution_count": 10,
   "id": "3b58869c",
   "metadata": {},
   "outputs": [
    {
     "name": "stderr",
     "output_type": "stream",
     "text": [
      "d:\\dev\\project\\natorch\\src\\natorch\\nn\\modules\\activation.py:27: RuntimeWarning: overflow encountered in exp\n",
      "  y = 1.0 / (1.0 + np.exp(-x))\n"
     ]
    },
    {
     "data": {
      "text/plain": [
       "(1, 128, 28, 28)"
      ]
     },
     "execution_count": 10,
     "metadata": {},
     "output_type": "execute_result"
    }
   ],
   "source": [
    "output = sample\n",
    "for i in layers:\n",
    "    output = i.forward(output)\n",
    "output.shape"
   ]
  },
  {
   "cell_type": "markdown",
   "id": "b2e25503",
   "metadata": {},
   "source": [
    "use numba, run 0.5 seconds - 5.0 seconds. \\\n",
    "use numpy, run > 33.4 seconds."
   ]
  },
  {
   "cell_type": "markdown",
   "id": "5543c464",
   "metadata": {},
   "source": [
    "### Test MaxPool2d Layer"
   ]
  },
  {
   "cell_type": "code",
   "execution_count": 11,
   "id": "28a037c2",
   "metadata": {},
   "outputs": [],
   "source": [
    "from natorch.nn.modules.pool import MaxPool2d"
   ]
  },
  {
   "cell_type": "code",
   "execution_count": 12,
   "id": "982a2367",
   "metadata": {},
   "outputs": [],
   "source": [
    "layers = [MaxPool2d(kernel_size=2, stride=2),\n",
    "          ReLU(), \n",
    "          MaxPool2d(kernel_size=2, stride=2),\n",
    "          ReLU(), \n",
    "          MaxPool2d(kernel_size=2, stride=2),\n",
    "          ReLU(), \n",
    "          MaxPool2d(kernel_size=2, stride=2),\n",
    "          Sigmoid()\n",
    "          ]"
   ]
  },
  {
   "cell_type": "code",
   "execution_count": 13,
   "id": "00fac55c",
   "metadata": {},
   "outputs": [],
   "source": [
    "sample = np.random.rand(1, 1, 28, 28)"
   ]
  },
  {
   "cell_type": "code",
   "execution_count": 14,
   "id": "14dcc9d1",
   "metadata": {},
   "outputs": [
    {
     "data": {
      "text/plain": [
       "(1, 1, 1, 1)"
      ]
     },
     "execution_count": 14,
     "metadata": {},
     "output_type": "execute_result"
    }
   ],
   "source": [
    "output = sample\n",
    "for i in layers:\n",
    "    output = i.forward(output)\n",
    "output.shape"
   ]
  },
  {
   "cell_type": "markdown",
   "id": "45ddf163",
   "metadata": {},
   "source": [
    "### Test AvgPool2d Layer"
   ]
  },
  {
   "cell_type": "code",
   "execution_count": 15,
   "id": "90a7ee79",
   "metadata": {},
   "outputs": [],
   "source": [
    "from natorch.nn.modules.pool import AvgPool2d"
   ]
  },
  {
   "cell_type": "code",
   "execution_count": 16,
   "id": "fefc7bf5",
   "metadata": {},
   "outputs": [],
   "source": [
    "layers = [AvgPool2d(kernel_size=2, stride=2),\n",
    "          ReLU(), \n",
    "          AvgPool2d(kernel_size=2, stride=2),\n",
    "          ReLU(), \n",
    "          AvgPool2d(kernel_size=2, stride=2),\n",
    "          ReLU(), \n",
    "          AvgPool2d(kernel_size=2, stride=2),\n",
    "          Sigmoid()\n",
    "          ]"
   ]
  },
  {
   "cell_type": "code",
   "execution_count": 17,
   "id": "43b02794",
   "metadata": {},
   "outputs": [],
   "source": [
    "sample = np.random.rand(1, 1, 28, 28)"
   ]
  },
  {
   "cell_type": "code",
   "execution_count": 18,
   "id": "05a4f588",
   "metadata": {},
   "outputs": [
    {
     "data": {
      "text/plain": [
       "(1, 1, 1, 1)"
      ]
     },
     "execution_count": 18,
     "metadata": {},
     "output_type": "execute_result"
    }
   ],
   "source": [
    "output = sample\n",
    "for i in layers:\n",
    "    output = i.forward(output)\n",
    "output.shape"
   ]
  },
  {
   "cell_type": "markdown",
   "id": "93ac73fa",
   "metadata": {},
   "source": [
    "### Test BatchNorm Layer"
   ]
  },
  {
   "cell_type": "code",
   "execution_count": 19,
   "id": "ca3d5d47",
   "metadata": {},
   "outputs": [],
   "source": [
    "from natorch.nn.modules.batchnorm import BatchNorm2d"
   ]
  },
  {
   "cell_type": "code",
   "execution_count": 20,
   "id": "58f43215",
   "metadata": {},
   "outputs": [],
   "source": [
    "layers = [Conv2d(1, 16, kernel_size = 3, stride = 1, padding = 1),\n",
    "          BatchNorm2d(in_channels=16), \n",
    "          ReLU(), \n",
    "          Conv2d(16, 32, kernel_size = 3, stride = 1, padding = 1),\n",
    "          BatchNorm2d(in_channels=32), \n",
    "          ReLU(), \n",
    "          Conv2d(32, 64, kernel_size = 3, stride = 1, padding = 1),\n",
    "          BatchNorm2d(in_channels=64),\n",
    "          ReLU(), \n",
    "          Conv2d(64, 128, kernel_size = 3, stride = 1, padding = 1),\n",
    "          Sigmoid()\n",
    "          ]"
   ]
  },
  {
   "cell_type": "code",
   "execution_count": 21,
   "id": "45855329",
   "metadata": {},
   "outputs": [],
   "source": [
    "sample = np.random.rand(1, 1, 28, 28)"
   ]
  },
  {
   "cell_type": "code",
   "execution_count": 22,
   "id": "bdf2c818",
   "metadata": {},
   "outputs": [
    {
     "data": {
      "text/plain": [
       "(1, 128, 28, 28)"
      ]
     },
     "execution_count": 22,
     "metadata": {},
     "output_type": "execute_result"
    }
   ],
   "source": [
    "output = sample\n",
    "for i in layers:\n",
    "    output = i.forward(output)\n",
    "output.shape"
   ]
  },
  {
   "cell_type": "markdown",
   "id": "1e86bcf4",
   "metadata": {},
   "source": [
    "### Test Dropout Layer"
   ]
  },
  {
   "cell_type": "code",
   "execution_count": 23,
   "id": "97a35410",
   "metadata": {},
   "outputs": [],
   "source": [
    "from natorch.nn.modules.dropout import Dropout"
   ]
  },
  {
   "cell_type": "code",
   "execution_count": 24,
   "id": "484596e9",
   "metadata": {},
   "outputs": [],
   "source": [
    "layers = [Dense(256, 128), \n",
    "          ReLU(), \n",
    "          Dense(128, 64), \n",
    "          ReLU(), \n",
    "          Dense(64, 32), \n",
    "          Dropout(p=0.5),\n",
    "          ReLU(), \n",
    "          Dense(32, 10), \n",
    "          Dropout(p=0.4),\n",
    "          Sigmoid()\n",
    "          ]"
   ]
  },
  {
   "cell_type": "code",
   "execution_count": 25,
   "id": "be08d47e",
   "metadata": {},
   "outputs": [],
   "source": [
    "sample = np.random.rand(256, )"
   ]
  },
  {
   "cell_type": "code",
   "execution_count": 26,
   "id": "723917ce",
   "metadata": {},
   "outputs": [
    {
     "data": {
      "text/plain": [
       "(10,)"
      ]
     },
     "execution_count": 26,
     "metadata": {},
     "output_type": "execute_result"
    }
   ],
   "source": [
    "output = sample\n",
    "for i in layers:\n",
    "    output = i.forward(output)\n",
    "output.shape"
   ]
  },
  {
   "cell_type": "markdown",
   "id": "9e2748a0",
   "metadata": {},
   "source": [
    "### Test Flatten Layer"
   ]
  },
  {
   "cell_type": "code",
   "execution_count": 27,
   "id": "bec29189",
   "metadata": {},
   "outputs": [],
   "source": [
    "from natorch.nn.modules.flatten import Flatten"
   ]
  },
  {
   "cell_type": "code",
   "execution_count": 28,
   "id": "49bf992f",
   "metadata": {},
   "outputs": [],
   "source": [
    "sample = np.random.rand(1, 120, 1, 1) # batch == 1"
   ]
  },
  {
   "cell_type": "code",
   "execution_count": 30,
   "id": "ac25b530",
   "metadata": {},
   "outputs": [
    {
     "data": {
      "text/plain": [
       "(120,)"
      ]
     },
     "execution_count": 30,
     "metadata": {},
     "output_type": "execute_result"
    }
   ],
   "source": [
    "output = Flatten().forward(sample)\n",
    "output.shape"
   ]
  },
  {
   "cell_type": "code",
   "execution_count": 31,
   "id": "da40ffcc",
   "metadata": {},
   "outputs": [],
   "source": [
    "sample = np.random.rand(10, 120, 1, 1) # batch != 1"
   ]
  },
  {
   "cell_type": "code",
   "execution_count": 32,
   "id": "8f513aad",
   "metadata": {},
   "outputs": [
    {
     "data": {
      "text/plain": [
       "(10, 120)"
      ]
     },
     "execution_count": 32,
     "metadata": {},
     "output_type": "execute_result"
    }
   ],
   "source": [
    "output = Flatten().forward(sample)\n",
    "output.shape"
   ]
  },
  {
   "cell_type": "code",
   "execution_count": null,
   "id": "6fb1cea7",
   "metadata": {},
   "outputs": [],
   "source": []
  }
 ],
 "metadata": {
  "kernelspec": {
   "display_name": "natorch",
   "language": "python",
   "name": "python3"
  },
  "language_info": {
   "codemirror_mode": {
    "name": "ipython",
    "version": 3
   },
   "file_extension": ".py",
   "mimetype": "text/x-python",
   "name": "python",
   "nbconvert_exporter": "python",
   "pygments_lexer": "ipython3",
   "version": "3.10.16"
  }
 },
 "nbformat": 4,
 "nbformat_minor": 5
}
