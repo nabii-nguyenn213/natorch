{
 "cells": [
  {
   "cell_type": "code",
   "execution_count": 1,
   "id": "d075f302",
   "metadata": {},
   "outputs": [],
   "source": [
    "import numpy as np\n",
    "from natorch.nn.modules.dense import Dense\n",
    "from natorch.nn.modules.activation import ReLU, Sigmoid"
   ]
  },
  {
   "cell_type": "code",
   "execution_count": 2,
   "id": "74081043",
   "metadata": {},
   "outputs": [],
   "source": [
    "layers = [Dense(256, 128), \n",
    "          ReLU(),\n",
    "          Dense(128, 64), \n",
    "          ReLU(), \n",
    "          Dense(64, 32), \n",
    "          ReLU(), \n",
    "          Dense(32, 10), \n",
    "          ReLU()]"
   ]
  },
  {
   "cell_type": "code",
   "execution_count": 3,
   "id": "bcaf8576",
   "metadata": {},
   "outputs": [],
   "source": [
    "sample = np.random.rand(256, )"
   ]
  },
  {
   "cell_type": "code",
   "execution_count": 4,
   "id": "21ac8ef6",
   "metadata": {},
   "outputs": [],
   "source": [
    "out = sample\n",
    "for i in layers:\n",
    "    out = i.forward(out)"
   ]
  },
  {
   "cell_type": "code",
   "execution_count": 5,
   "id": "3377d902",
   "metadata": {},
   "outputs": [
    {
     "data": {
      "text/plain": [
       "(10,)"
      ]
     },
     "execution_count": 5,
     "metadata": {},
     "output_type": "execute_result"
    }
   ],
   "source": [
    "out.shape"
   ]
  }
 ],
 "metadata": {
  "kernelspec": {
   "display_name": "natorch",
   "language": "python",
   "name": "python3"
  },
  "language_info": {
   "codemirror_mode": {
    "name": "ipython",
    "version": 3
   },
   "file_extension": ".py",
   "mimetype": "text/x-python",
   "name": "python",
   "nbconvert_exporter": "python",
   "pygments_lexer": "ipython3",
   "version": "3.10.16"
  }
 },
 "nbformat": 4,
 "nbformat_minor": 5
}
